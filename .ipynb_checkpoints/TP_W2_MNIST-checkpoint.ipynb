{
 "cells": [
  {
   "cell_type": "markdown",
   "metadata": {
    "colab_type": "text",
    "id": "view-in-github"
   },
   "source": [
    "<a href=\"https://colab.research.google.com/github/JemiJey/deeplearningai/blob/master/TP_W2_MNIST.ipynb\" target=\"_parent\"><img src=\"https://colab.research.google.com/assets/colab-badge.svg\" alt=\"Open In Colab\"/></a>"
   ]
  },
  {
   "cell_type": "code",
   "execution_count": 2,
   "metadata": {
    "colab": {
     "base_uri": "https://localhost:8080/",
     "height": 527
    },
    "colab_type": "code",
    "id": "yO3LSvwHslPc",
    "outputId": "135c3726-2af7-4086-a473-187f178bdc95"
   },
   "outputs": [],
   "source": [
    "# !pip install tensorflow==2.0.0-alpha0"
   ]
  },
  {
   "cell_type": "code",
   "execution_count": 7,
   "metadata": {
    "colab": {},
    "colab_type": "code",
    "id": "d40zLxIfszHn"
   },
   "outputs": [],
   "source": [
    "import tensorflow as tf\n",
    "from tensorflow import keras\n",
    "import numpy as np\n",
    "import matplotlib.pyplot as plt"
   ]
  },
  {
   "cell_type": "code",
   "execution_count": 4,
   "metadata": {
    "colab": {
     "base_uri": "https://localhost:8080/",
     "height": 153
    },
    "colab_type": "code",
    "id": "f70mCEaVtEZi",
    "outputId": "d06c0f82-18a6-4bbd-a485-57d3ea767bfb"
   },
   "outputs": [
    {
     "name": "stdout",
     "output_type": "stream",
     "text": [
      "Downloading data from https://storage.googleapis.com/tensorflow/tf-keras-datasets/train-labels-idx1-ubyte.gz\n",
      "32768/29515 [=================================] - 0s 2us/step\n",
      "Downloading data from https://storage.googleapis.com/tensorflow/tf-keras-datasets/train-images-idx3-ubyte.gz\n",
      "26427392/26421880 [==============================] - 3s 0us/step\n",
      "Downloading data from https://storage.googleapis.com/tensorflow/tf-keras-datasets/t10k-labels-idx1-ubyte.gz\n",
      "8192/5148 [===============================================] - 0s 0us/step\n",
      "Downloading data from https://storage.googleapis.com/tensorflow/tf-keras-datasets/t10k-images-idx3-ubyte.gz\n",
      "4423680/4422102 [==============================] - 1s 0us/step\n"
     ]
    }
   ],
   "source": [
    "fashion_MNIST = tf.keras.datasets.fashion_mnist\n",
    "(training_images, training_label), (test_images, test_labels) = fashion_MNIST.load_data()"
   ]
  },
  {
   "cell_type": "code",
   "execution_count": 8,
   "metadata": {
    "colab": {
     "base_uri": "https://localhost:8080/",
     "height": 1000
    },
    "colab_type": "code",
    "id": "e_Dgw5mCthIb",
    "outputId": "e4dbd7fd-c393-467d-c880-b0b7f955e26c"
   },
   "outputs": [
    {
     "name": "stdout",
     "output_type": "stream",
     "text": [
      "9\n",
      "[[  0   0   0   0   0   0   0   0   0   0   0   0   0   0   0   0   0   0\n",
      "    0   0   0   0   0   0   0   0   0   0]\n",
      " [  0   0   0   0   0   0   0   0   0   0   0   0   0   0   0   0   0   0\n",
      "    0   0   0   0   0   0   0   0   0   0]\n",
      " [  0   0   0   0   0   0   0   0   0   0   0   0   0   0   0   0   0   0\n",
      "    0   0   0   0   0   0   0   0   0   0]\n",
      " [  0   0   0   0   0   0   0   0   0   0   0   0   0   0   0   0   0   0\n",
      "    0   0   0   0   0   0   0   0   0   0]\n",
      " [  0   0   0   0   0   0   0   0   0   0   0   0   0   0   0   0   0   0\n",
      "    0   0   0   0   0   0   0   0   0   0]\n",
      " [  0   0   0   0   0   0   0   0   0   0   0   0   0   0   0   0  82 187\n",
      "   26   0   0   0   0   0   0   0   0   0]\n",
      " [  0   0   0   0   0   0   0   0   0   1   0   0   1   0   0 179 240 237\n",
      "  255 240 139  83  64  43  60  54   0   1]\n",
      " [  0   0   0   0   0   0   0   0   0   1   0   0   1   0  58 239 222 234\n",
      "  238 246 252 254 255 248 255 187   0   0]\n",
      " [  0   0   0   0   0   0   0   0   0   0   2   3   0   0 194 239 226 237\n",
      "  235 232 230 234 234 233 249 171   0   0]\n",
      " [  0   0   0   0   0   0   0   0   0   1   1   0   0  10 255 226 242 239\n",
      "  238 239 240 239 242 238 248 192   0   0]\n",
      " [  0   0   0   0   0   0   0   0   0   0   0   0   0 172 245 229 240 241\n",
      "  240 241 243 243 241 227 250 209   0   0]\n",
      " [  0   0   0   0   0   0   0   0   0   6   5   0  62 255 230 236 239 241\n",
      "  242 241 242 242 238 238 242 253   0   0]\n",
      " [  0   0   0   0   0   0   0   0   0   3   0   0 255 235 228 244 241 241\n",
      "  244 243 243 244 243 239 235 255  22   0]\n",
      " [  0   0   0   0   0   0   0   0   0   0   0 246 228 220 245 243 237 241\n",
      "  242 242 242 243 239 237 235 253 106   0]\n",
      " [  0   0   3   4   4   2   1   0   0  18 243 228 231 241 243 237 238 242\n",
      "  241 240 240 240 235 237 236 246 234   0]\n",
      " [  1   0   0   0   0   0   0   0  22 255 238 227 238 239 237 241 241 237\n",
      "  236 238 239 239 239 239 239 237 255   0]\n",
      " [  0   0   0   0   0  25  83 168 255 225 225 235 228 230 227 225 227 231\n",
      "  232 237 240 236 238 239 239 235 251  62]\n",
      " [  0 165 225 220 224 255 255 233 229 223 227 228 231 232 235 237 233 230\n",
      "  228 230 233 232 235 233 234 235 255  58]\n",
      " [ 52 251 221 226 227 225 225 225 226 226 225 227 231 229 232 239 245 250\n",
      "  251 252 254 254 252 254 252 235 255   0]\n",
      " [ 31 208 230 233 233 237 236 236 241 235 241 247 251 254 242 236 233 227\n",
      "  219 202 193 189 186 181 171 165 190  42]\n",
      " [ 77 199 172 188 199 202 218 219 220 229 234 222 213 209 207 210 203 184\n",
      "  152 171 165 162 162 167 168 157 192  78]\n",
      " [  0  45 101 140 159 174 182 186 185 188 195 197 188 175 133  70  19   0\n",
      "    0 209 231 218 222 224 227 217 229  93]\n",
      " [  0   0   0   0   0   0   2  24  37  45  32  18  11   0   0   0   0   0\n",
      "    0  72  51  53  37  34  29  31   5   0]\n",
      " [  0   0   0   0   0   0   0   0   0   0   0   0   0   0   0   0   0   0\n",
      "    0   0   0   0   0   0   0   0   0   0]\n",
      " [  0   0   0   0   0   0   0   0   0   0   0   0   0   0   0   0   0   0\n",
      "    0   0   0   0   0   0   0   0   0   0]\n",
      " [  0   0   0   0   0   0   0   0   0   0   0   0   0   0   0   0   0   0\n",
      "    0   0   0   0   0   0   0   0   0   0]\n",
      " [  0   0   0   0   0   0   0   0   0   0   0   0   0   0   0   0   0   0\n",
      "    0   0   0   0   0   0   0   0   0   0]\n",
      " [  0   0   0   0   0   0   0   0   0   0   0   0   0   0   0   0   0   0\n",
      "    0   0   0   0   0   0   0   0   0   0]]\n"
     ]
    },
    {
     "data": {
      "image/png": "[encoded data removed]",
      "text/plain": [
       "<Figure size 432x288 with 1 Axes>"
      ]
     },
     "metadata": {
      "needs_background": "light"
     },
     "output_type": "display_data"
    }
   ],
   "source": [
    "plt.imshow(training_images[42])\n",
    "print(training_label[42])\n",
    "print(training_images[42])"
   ]
  },
  {
   "cell_type": "markdown",
   "metadata": {
    "colab_type": "text",
    "id": "1-uxdg5euwPp"
   },
   "source": [
    "# Normalizing the data\n",
    "\n",
    "notice all of the values in the number are between 0 and 255, if we are training a neural network, for various reasons it's easier if we treat all values as between 0 and 1, this process calles \"**normalizing**\" \n",
    "Neural Networks work better with normalized data"
   ]
  },
  {
   "cell_type": "code",
   "execution_count": 9,
   "metadata": {
    "colab": {},
    "colab_type": "code",
    "id": "iz8zyYW4t-A7"
   },
   "outputs": [],
   "source": [
    "training_images = training_images / 255.0\n",
    "test_images = test_images / 255.0"
   ]
  },
  {
   "cell_type": "markdown",
   "metadata": {
    "colab_type": "text",
    "id": "Mw2ANEKp03un"
   },
   "source": [
    "# Design our Model"
   ]
  },
  {
   "cell_type": "code",
   "execution_count": 10,
   "metadata": {
    "colab": {},
    "colab_type": "code",
    "id": "mclfUqaG03M5"
   },
   "outputs": [],
   "source": [
    "model = tf.keras.models.Sequential([tf.keras.layers.Flatten(),\n",
    "                                    tf.keras.layers.Dense(128, activation=tf.nn.relu),\n",
    "                                    tf.keras.layers.Dense(10, activation=tf.nn.softmax)])"
   ]
  },
  {
   "cell_type": "markdown",
   "metadata": {
    "colab_type": "text",
    "id": "4k4RxZr-1qln"
   },
   "source": [
    "\n",
    "\n",
    "**Sequential** - That defines a SEQUENCE of layers in the neural network\n",
    "\n",
    "**Flatten** - Images are square when we use Flatten it just takes that square and turns it into a 1 dimensional set.\n",
    "\n",
    "**Dense** - Adds a layer of neurons\n",
    "\n",
    "Each layer of neuron need an **activation function** to tell them what to do.\n",
    "\n",
    "**Relu** - effectively means if x>0 return x, else return 0 - so what it does is it only passes values 0 or greater to the next layer in the network\n",
    "\n",
    "**Softmax** - takes a set of values, and effectively picks the biggest one, so for example if the output of the last layer looks like [0.1, 0.1, 0.05, 0.1, 9.5, 0.1, 0.05, 0.05, 0.05], it saves you from fishing through it looking for the biggest value, and turns it into [0,0,0,0,1,0,0,0,0,0] - **the goal is to save a lot of coding!!**"
   ]
  },
  {
   "cell_type": "markdown",
   "metadata": {
    "colab_type": "text",
    "id": "xAOF85aK4mqt"
   },
   "source": [
    "# Compiling Model\n",
    "**Model is defined we need to build it**, we do this by compiling it with an optimizer and loss function as before - and then we train it by calling **model.fit** asking it to fit our training labels, "
   ]
  },
  {
   "cell_type": "code",
   "execution_count": 11,
   "metadata": {
    "colab": {
     "base_uri": "https://localhost:8080/",
     "height": 204
    },
    "colab_type": "code",
    "id": "9TRvtg4iveUw",
    "outputId": "22450202-9015-495f-e0b0-1889dc0f216d"
   },
   "outputs": [
    {
     "name": "stdout",
     "output_type": "stream",
     "text": [
      "Epoch 1/5\n",
      "60000/60000 [==============================] - 2s 32us/sample - loss: 0.4905\n",
      "Epoch 2/5\n",
      "60000/60000 [==============================] - 2s 30us/sample - loss: 0.3737\n",
      "Epoch 3/5\n",
      "60000/60000 [==============================] - 2s 31us/sample - loss: 0.3369\n",
      "Epoch 4/5\n",
      "60000/60000 [==============================] - 2s 30us/sample - loss: 0.3130\n",
      "Epoch 5/5\n",
      "60000/60000 [==============================] - 2s 31us/sample - loss: 0.2931\n"
     ]
    },
    {
     "data": {
      "text/plain": [
       "<tensorflow.python.keras.callbacks.History at 0x7f74fab1f6a0>"
      ]
     },
     "execution_count": 11,
     "metadata": {},
     "output_type": "execute_result"
    }
   ],
   "source": [
    "model.compile(optimizer='adam', loss='sparse_categorical_crossentropy')\n",
    "model.fit(training_images, training_label, epochs=5)"
   ]
  },
  {
   "cell_type": "code",
   "execution_count": 12,
   "metadata": {
    "colab": {
     "base_uri": "https://localhost:8080/",
     "height": 1000
    },
    "colab_type": "code",
    "id": "gywohD_N5T8P",
    "outputId": "69c71019-4d0d-439c-891b-d937aab8694d"
   },
   "outputs": [
    {
     "name": "stdout",
     "output_type": "stream",
     "text": [
      "Epoch 1/30\n",
      "60000/60000 [==============================] - 2s 32us/sample - loss: 0.2798\n",
      "Epoch 2/30\n",
      "60000/60000 [==============================] - 2s 30us/sample - loss: 0.2694\n",
      "Epoch 3/30\n",
      "60000/60000 [==============================] - 2s 31us/sample - loss: 0.2566\n",
      "Epoch 4/30\n",
      "60000/60000 [==============================] - 2s 31us/sample - loss: 0.2486\n",
      "Epoch 5/30\n",
      "60000/60000 [==============================] - 2s 31us/sample - loss: 0.2398\n",
      "Epoch 6/30\n",
      "60000/60000 [==============================] - 2s 31us/sample - loss: 0.2297\n",
      "Epoch 7/30\n",
      "60000/60000 [==============================] - 2s 31us/sample - loss: 0.2221\n",
      "Epoch 8/30\n",
      "60000/60000 [==============================] - 2s 31us/sample - loss: 0.2164\n",
      "Epoch 9/30\n",
      "60000/60000 [==============================] - 2s 31us/sample - loss: 0.2095\n",
      "Epoch 10/30\n",
      "60000/60000 [==============================] - 2s 30us/sample - loss: 0.2061\n",
      "Epoch 11/30\n",
      "60000/60000 [==============================] - 2s 31us/sample - loss: 0.1986\n",
      "Epoch 12/30\n",
      "60000/60000 [==============================] - 2s 31us/sample - loss: 0.1930\n",
      "Epoch 13/30\n",
      "60000/60000 [==============================] - 2s 31us/sample - loss: 0.1888\n",
      "Epoch 14/30\n",
      "60000/60000 [==============================] - 2s 31us/sample - loss: 0.1828\n",
      "Epoch 15/30\n",
      "60000/60000 [==============================] - 2s 31us/sample - loss: 0.1783\n",
      "Epoch 16/30\n",
      "60000/60000 [==============================] - 2s 31us/sample - loss: 0.1741\n",
      "Epoch 17/30\n",
      "60000/60000 [==============================] - 2s 31us/sample - loss: 0.1704\n",
      "Epoch 18/30\n",
      "60000/60000 [==============================] - 2s 31us/sample - loss: 0.1657\n",
      "Epoch 19/30\n",
      "60000/60000 [==============================] - 2s 31us/sample - loss: 0.1633\n",
      "Epoch 20/30\n",
      "60000/60000 [==============================] - 2s 32us/sample - loss: 0.1579\n",
      "Epoch 21/30\n",
      "60000/60000 [==============================] - 2s 31us/sample - loss: 0.1537\n",
      "Epoch 22/30\n",
      "60000/60000 [==============================] - 2s 32us/sample - loss: 0.1519\n",
      "Epoch 23/30\n",
      "60000/60000 [==============================] - 2s 31us/sample - loss: 0.1495\n",
      "Epoch 24/30\n",
      "60000/60000 [==============================] - 2s 32us/sample - loss: 0.1471\n",
      "Epoch 25/30\n",
      "60000/60000 [==============================] - 2s 32us/sample - loss: 0.1403\n",
      "Epoch 26/30\n",
      "60000/60000 [==============================] - 2s 32us/sample - loss: 0.1402\n",
      "Epoch 27/30\n",
      "60000/60000 [==============================] - 2s 33us/sample - loss: 0.1372\n",
      "Epoch 28/30\n",
      "60000/60000 [==============================] - 2s 33us/sample - loss: 0.1323\n",
      "Epoch 29/30\n",
      "60000/60000 [==============================] - 2s 32us/sample - loss: 0.1317\n",
      "Epoch 30/30\n",
      "60000/60000 [==============================] - 2s 31us/sample - loss: 0.1270\n"
     ]
    },
    {
     "data": {
      "text/plain": [
       "<tensorflow.python.keras.callbacks.History at 0x7f74f710ec50>"
      ]
     },
     "execution_count": 12,
     "metadata": {},
     "output_type": "execute_result"
    }
   ],
   "source": [
    "model.compile(optimizer='adam', loss='sparse_categorical_crossentropy')\n",
    "model.fit(training_images, training_label, epochs=30)"
   ]
  },
  {
   "cell_type": "code",
   "execution_count": 13,
   "metadata": {
    "colab": {
     "base_uri": "https://localhost:8080/",
     "height": 51
    },
    "colab_type": "code",
    "id": "E5_7evy759JT",
    "outputId": "4b32f525-c26b-4cf8-cc6e-27ea01e8b590"
   },
   "outputs": [
    {
     "name": "stdout",
     "output_type": "stream",
     "text": [
      "10000/10000 [==============================] - 0s 18us/sample - loss: 0.4117\n"
     ]
    },
    {
     "data": {
      "text/plain": [
       "0.4117478252053261"
      ]
     },
     "execution_count": 13,
     "metadata": {},
     "output_type": "execute_result"
    }
   ],
   "source": [
    "model.evaluate(test_images, test_labels)"
   ]
  },
  {
   "cell_type": "code",
   "execution_count": 15,
   "metadata": {
    "colab": {},
    "colab_type": "code",
    "id": "FMHkMExo6MM7"
   },
   "outputs": [],
   "source": [
    "classification = model.predict(test_images)"
   ]
  },
  {
   "cell_type": "code",
   "execution_count": 16,
   "metadata": {},
   "outputs": [
    {
     "name": "stdout",
     "output_type": "stream",
     "text": [
      "[3.3364522e-12 6.0374842e-18 3.8252698e-15 1.0658971e-21 1.1455340e-17\n",
      " 7.6939152e-08 5.3155557e-18 1.8952056e-05 1.7607883e-15 9.9998093e-01]\n"
     ]
    }
   ],
   "source": [
    "\"\"\"it's the probability that this item is each of the 10 classes, the output of the model \n",
    "   is a list of 10 numbers. these numbers are a probability that the value being classified \n",
    "   is the corresponding value \"\"\"\n",
    "print(classification[0])"
   ]
  },
  {
   "cell_type": "code",
   "execution_count": 17,
   "metadata": {},
   "outputs": [
    {
     "name": "stdout",
     "output_type": "stream",
     "text": [
      "9\n"
     ]
    }
   ],
   "source": [
    "print(test_labels[0])"
   ]
  },
  {
   "cell_type": "code",
   "execution_count": 29,
   "metadata": {},
   "outputs": [],
   "source": [
    "def generate_nn_moddel(x, y, z):\n",
    "    \"\"\"here we can pass x, y, z parameters\n",
    "            x = values of the dense layer\n",
    "            y = number of neurons in output layer\n",
    "            z = epochs\"\"\"\n",
    "    mnist = tf.keras.datasets.mnist\n",
    "    (training_images, training_labels), (test_images, test_labels) = mnist.load_data()\n",
    "    training_images = training_images / 255.0\n",
    "    test_images = test_images / 255.0\n",
    "\n",
    "    model = tf.keras.Sequential([tf.keras.layers.Flatten(),\n",
    "                                 tf.keras.layers.Dense(x, activation = tf.nn.relu),\n",
    "                                 tf.keras.layers.Dense(y, activation = tf.nn.softmax)])\n",
    "\n",
    "    model.compile(optimizer = 'adam', loss = 'sparse_categorical_crossentropy')\n",
    "    model.fit(training_images, training_labels, epochs = z)\n",
    "    model.evaluate(test_images, test_labels)\n",
    "    classification = model.predict(test_images)\n",
    "    return classification\n"
   ]
  },
  {
   "cell_type": "code",
   "execution_count": 26,
   "metadata": {},
   "outputs": [
    {
     "name": "stdout",
     "output_type": "stream",
     "text": [
      "Epoch 1/5\n",
      "60000/60000 [==============================] - 4s 59us/sample - loss: 0.2035\n",
      "Epoch 2/5\n",
      "60000/60000 [==============================] - 4s 59us/sample - loss: 0.0803\n",
      "Epoch 3/5\n",
      "60000/60000 [==============================] - 4s 59us/sample - loss: 0.0525\n",
      "Epoch 4/5\n",
      "60000/60000 [==============================] - 4s 59us/sample - loss: 0.0370\n",
      "Epoch 5/5\n",
      "60000/60000 [==============================] - 4s 60us/sample - loss: 0.0265\n",
      "10000/10000 [==============================] - 0s 26us/sample - loss: 0.0678\n",
      "[4.2637565e-09 5.8373617e-10 1.8290237e-06 3.8830372e-06 8.1688952e-12\n",
      " 8.7419832e-10 8.2782154e-13 9.9999416e-01 2.3301554e-09 6.3105674e-08]\n"
     ]
    }
   ],
   "source": [
    "classification = generate_nn_moddel(1024, 10, 5)\n",
    "print(classification[0])"
   ]
  },
  {
   "cell_type": "code",
   "execution_count": 27,
   "metadata": {},
   "outputs": [
    {
     "data": {
      "text/plain": [
       "array([7.3617348e-11, 5.1553572e-05, 9.9994802e-01, 8.6101352e-08,\n",
       "       1.4220735e-17, 1.1593525e-10, 4.5011961e-10, 1.5916783e-13,\n",
       "       3.9444311e-07, 5.8093463e-14], dtype=float32)"
      ]
     },
     "execution_count": 27,
     "metadata": {},
     "output_type": "execute_result"
    }
   ],
   "source": [
    "classification[1]"
   ]
  },
  {
   "cell_type": "code",
   "execution_count": 28,
   "metadata": {},
   "outputs": [
    {
     "name": "stdout",
     "output_type": "stream",
     "text": [
      "2\n"
     ]
    }
   ],
   "source": [
    "print(test_labels[1])"
   ]
  },
  {
   "cell_type": "code",
   "execution_count": 30,
   "metadata": {},
   "outputs": [
    {
     "name": "stdout",
     "output_type": "stream",
     "text": [
      "Help on function generate_nn_moddel in module __main__:\n",
      "\n",
      "generate_nn_moddel(x, y, z)\n",
      "    here we can pass x, y, z parameters\n",
      "    x = values of the dense layer\n",
      "    y = number of neurons in output layer\n",
      "    z = epochs\n",
      "\n"
     ]
    }
   ],
   "source": [
    "help(generate_nn_moddel)"
   ]
  },
  {
   "cell_type": "code",
   "execution_count": null,
   "metadata": {},
   "outputs": [],
   "source": []
  }
 ],
 "metadata": {
  "colab": {
   "include_colab_link": true,
   "name": "TP_W2_MNIST.ipynb",
   "provenance": []
  },
  "kernelspec": {
   "display_name": "Python 3",
   "language": "python",
   "name": "python3"
  },
  "language_info": {
   "codemirror_mode": {
    "name": "ipython",
    "version": 3
   },
   "file_extension": ".py",
   "mimetype": "text/x-python",
   "name": "python",
   "nbconvert_exporter": "python",
   "pygments_lexer": "ipython3",
   "version": "3.6.8"
  }
 },
 "nbformat": 4,
 "nbformat_minor": 4
}
